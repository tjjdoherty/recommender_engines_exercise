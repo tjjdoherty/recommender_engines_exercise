{
 "cells": [
  {
   "cell_type": "code",
   "execution_count": 1,
   "metadata": {
    "ExecuteTime": {
     "end_time": "2020-04-30T11:40:10.388626Z",
     "start_time": "2020-04-30T11:40:09.944952Z"
    }
   },
   "outputs": [],
   "source": [
    "# import pandas\n",
    "import pandas as pd  \n",
    "\n",
    "# from apyori import apriori\n",
    "from apyori import apriori"
   ]
  },
  {
   "cell_type": "code",
   "execution_count": 4,
   "metadata": {
    "ExecuteTime": {
     "end_time": "2020-04-30T11:40:11.501307Z",
     "start_time": "2020-04-30T11:40:10.963718Z"
    }
   },
   "outputs": [],
   "source": [
    "# load data \n",
    "df = pd.read_csv('https://raw.githubusercontent.com/pirandello/apriori/master/movie_dataset.csv', \n",
    "                         header = None)"
   ]
  },
  {
   "cell_type": "markdown",
   "metadata": {},
   "source": [
    "* explore the dataset"
   ]
  },
  {
   "cell_type": "code",
   "execution_count": 5,
   "metadata": {},
   "outputs": [
    {
     "data": {
      "text/html": [
       "<div>\n",
       "<style scoped>\n",
       "    .dataframe tbody tr th:only-of-type {\n",
       "        vertical-align: middle;\n",
       "    }\n",
       "\n",
       "    .dataframe tbody tr th {\n",
       "        vertical-align: top;\n",
       "    }\n",
       "\n",
       "    .dataframe thead th {\n",
       "        text-align: right;\n",
       "    }\n",
       "</style>\n",
       "<table border=\"1\" class=\"dataframe\">\n",
       "  <thead>\n",
       "    <tr style=\"text-align: right;\">\n",
       "      <th></th>\n",
       "      <th>0</th>\n",
       "      <th>1</th>\n",
       "      <th>2</th>\n",
       "      <th>3</th>\n",
       "      <th>4</th>\n",
       "      <th>5</th>\n",
       "      <th>6</th>\n",
       "      <th>7</th>\n",
       "      <th>8</th>\n",
       "      <th>9</th>\n",
       "      <th>10</th>\n",
       "      <th>11</th>\n",
       "      <th>12</th>\n",
       "      <th>13</th>\n",
       "      <th>14</th>\n",
       "      <th>15</th>\n",
       "      <th>16</th>\n",
       "      <th>17</th>\n",
       "      <th>18</th>\n",
       "      <th>19</th>\n",
       "    </tr>\n",
       "  </thead>\n",
       "  <tbody>\n",
       "    <tr>\n",
       "      <th>0</th>\n",
       "      <td>The Revenant</td>\n",
       "      <td>13 Hours</td>\n",
       "      <td>Allied</td>\n",
       "      <td>Zootopia</td>\n",
       "      <td>Jigsaw</td>\n",
       "      <td>Achorman</td>\n",
       "      <td>Grinch</td>\n",
       "      <td>Fast and Furious</td>\n",
       "      <td>Ghostbusters</td>\n",
       "      <td>Wolverine</td>\n",
       "      <td>Mad Max</td>\n",
       "      <td>John Wick</td>\n",
       "      <td>La La Land</td>\n",
       "      <td>The Good Dunosaur</td>\n",
       "      <td>Ninja Turtles</td>\n",
       "      <td>The Good Dunosaur Bad Moms</td>\n",
       "      <td>2 Guns</td>\n",
       "      <td>Inside Out</td>\n",
       "      <td>Valerian</td>\n",
       "      <td>Spiderman 3</td>\n",
       "    </tr>\n",
       "    <tr>\n",
       "      <th>1</th>\n",
       "      <td>Beirut</td>\n",
       "      <td>Martian</td>\n",
       "      <td>Get Out</td>\n",
       "      <td>NaN</td>\n",
       "      <td>NaN</td>\n",
       "      <td>NaN</td>\n",
       "      <td>NaN</td>\n",
       "      <td>NaN</td>\n",
       "      <td>NaN</td>\n",
       "      <td>NaN</td>\n",
       "      <td>NaN</td>\n",
       "      <td>NaN</td>\n",
       "      <td>NaN</td>\n",
       "      <td>NaN</td>\n",
       "      <td>NaN</td>\n",
       "      <td>NaN</td>\n",
       "      <td>NaN</td>\n",
       "      <td>NaN</td>\n",
       "      <td>NaN</td>\n",
       "      <td>NaN</td>\n",
       "    </tr>\n",
       "    <tr>\n",
       "      <th>2</th>\n",
       "      <td>Deadpool</td>\n",
       "      <td>NaN</td>\n",
       "      <td>NaN</td>\n",
       "      <td>NaN</td>\n",
       "      <td>NaN</td>\n",
       "      <td>NaN</td>\n",
       "      <td>NaN</td>\n",
       "      <td>NaN</td>\n",
       "      <td>NaN</td>\n",
       "      <td>NaN</td>\n",
       "      <td>NaN</td>\n",
       "      <td>NaN</td>\n",
       "      <td>NaN</td>\n",
       "      <td>NaN</td>\n",
       "      <td>NaN</td>\n",
       "      <td>NaN</td>\n",
       "      <td>NaN</td>\n",
       "      <td>NaN</td>\n",
       "      <td>NaN</td>\n",
       "      <td>NaN</td>\n",
       "    </tr>\n",
       "    <tr>\n",
       "      <th>3</th>\n",
       "      <td>X-Men</td>\n",
       "      <td>Allied</td>\n",
       "      <td>NaN</td>\n",
       "      <td>NaN</td>\n",
       "      <td>NaN</td>\n",
       "      <td>NaN</td>\n",
       "      <td>NaN</td>\n",
       "      <td>NaN</td>\n",
       "      <td>NaN</td>\n",
       "      <td>NaN</td>\n",
       "      <td>NaN</td>\n",
       "      <td>NaN</td>\n",
       "      <td>NaN</td>\n",
       "      <td>NaN</td>\n",
       "      <td>NaN</td>\n",
       "      <td>NaN</td>\n",
       "      <td>NaN</td>\n",
       "      <td>NaN</td>\n",
       "      <td>NaN</td>\n",
       "      <td>NaN</td>\n",
       "    </tr>\n",
       "    <tr>\n",
       "      <th>4</th>\n",
       "      <td>Ninja Turtles</td>\n",
       "      <td>Moana</td>\n",
       "      <td>Ghost in the Shell</td>\n",
       "      <td>Ralph Breaks the Internet</td>\n",
       "      <td>John Wick</td>\n",
       "      <td>NaN</td>\n",
       "      <td>NaN</td>\n",
       "      <td>NaN</td>\n",
       "      <td>NaN</td>\n",
       "      <td>NaN</td>\n",
       "      <td>NaN</td>\n",
       "      <td>NaN</td>\n",
       "      <td>NaN</td>\n",
       "      <td>NaN</td>\n",
       "      <td>NaN</td>\n",
       "      <td>NaN</td>\n",
       "      <td>NaN</td>\n",
       "      <td>NaN</td>\n",
       "      <td>NaN</td>\n",
       "      <td>NaN</td>\n",
       "    </tr>\n",
       "  </tbody>\n",
       "</table>\n",
       "</div>"
      ],
      "text/plain": [
       "              0         1                   2                          3   \\\n",
       "0   The Revenant  13 Hours              Allied                   Zootopia   \n",
       "1         Beirut   Martian             Get Out                        NaN   \n",
       "2       Deadpool       NaN                 NaN                        NaN   \n",
       "3          X-Men    Allied                 NaN                        NaN   \n",
       "4  Ninja Turtles     Moana  Ghost in the Shell  Ralph Breaks the Internet   \n",
       "\n",
       "          4         5       6                 7             8          9   \\\n",
       "0     Jigsaw  Achorman  Grinch  Fast and Furious  Ghostbusters  Wolverine   \n",
       "1        NaN       NaN     NaN               NaN           NaN        NaN   \n",
       "2        NaN       NaN     NaN               NaN           NaN        NaN   \n",
       "3        NaN       NaN     NaN               NaN           NaN        NaN   \n",
       "4  John Wick       NaN     NaN               NaN           NaN        NaN   \n",
       "\n",
       "        10         11          12                 13             14  \\\n",
       "0  Mad Max  John Wick  La La Land  The Good Dunosaur  Ninja Turtles   \n",
       "1      NaN        NaN         NaN                NaN            NaN   \n",
       "2      NaN        NaN         NaN                NaN            NaN   \n",
       "3      NaN        NaN         NaN                NaN            NaN   \n",
       "4      NaN        NaN         NaN                NaN            NaN   \n",
       "\n",
       "                           15      16          17        18           19  \n",
       "0  The Good Dunosaur Bad Moms  2 Guns  Inside Out  Valerian  Spiderman 3  \n",
       "1                         NaN     NaN         NaN       NaN          NaN  \n",
       "2                         NaN     NaN         NaN       NaN          NaN  \n",
       "3                         NaN     NaN         NaN       NaN          NaN  \n",
       "4                         NaN     NaN         NaN       NaN          NaN  "
      ]
     },
     "execution_count": 5,
     "metadata": {},
     "output_type": "execute_result"
    }
   ],
   "source": [
    "df.head(5)"
   ]
  },
  {
   "cell_type": "code",
   "execution_count": 6,
   "metadata": {},
   "outputs": [
    {
     "data": {
      "text/plain": [
       "(7501, 20)"
      ]
     },
     "execution_count": 6,
     "metadata": {},
     "output_type": "execute_result"
    }
   ],
   "source": [
    "df.shape"
   ]
  },
  {
   "cell_type": "markdown",
   "metadata": {
    "ExecuteTime": {
     "end_time": "2020-04-30T11:40:35.334675Z",
     "start_time": "2020-04-30T11:40:35.306867Z"
    }
   },
   "source": [
    "7500 movies in records of 20 - looking to see which movies were watched together in significant frequency"
   ]
  },
  {
   "cell_type": "markdown",
   "metadata": {},
   "source": [
    "* transform dataframe to list of lists (suitable format for apyori)"
   ]
  },
  {
   "cell_type": "code",
   "execution_count": 7,
   "metadata": {},
   "outputs": [],
   "source": [
    "# make an empty list\n",
    "records = []\n",
    "for i in range(0, 7501):\n",
    "    records.append([str(df.values[i,j]) for j in range(0, 20)])"
   ]
  },
  {
   "cell_type": "code",
   "execution_count": null,
   "metadata": {
    "ExecuteTime": {
     "end_time": "2020-04-30T11:40:55.909558Z",
     "start_time": "2020-04-30T11:40:54.674205Z"
    }
   },
   "outputs": [],
   "source": []
  },
  {
   "cell_type": "markdown",
   "metadata": {},
   "source": [
    "* instantiate apriori and set the input params based on following constraints:\n",
    "    * we want only movies that are purchased at least 40 times\n",
    "    * the minimum confidence for the rules is 20%\n",
    "    * the minumum lift is 3"
   ]
  },
  {
   "cell_type": "code",
   "execution_count": 8,
   "metadata": {
    "ExecuteTime": {
     "end_time": "2020-04-30T11:41:35.441177Z",
     "start_time": "2020-04-30T11:41:33.734304Z"
    }
   },
   "outputs": [],
   "source": [
    "min_support = 40 / 7501\n",
    "min_confidence = 0.2\n",
    "min_lift = 3\n",
    "min_length = 2 # my parameter, to get more than 2 items in the rule\n",
    "\n",
    "association_rules = apriori(records, min_support=min_support, min_confidence=min_confidence, min_lift=min_lift, min_length=min_length)\n",
    "association_results = list(association_rules)"
   ]
  },
  {
   "cell_type": "markdown",
   "metadata": {},
   "source": [
    "* how many association rules did we obtained ?"
   ]
  },
  {
   "cell_type": "code",
   "execution_count": 9,
   "metadata": {},
   "outputs": [
    {
     "name": "stdout",
     "output_type": "stream",
     "text": [
      "32\n"
     ]
    }
   ],
   "source": [
    "print(len(association_results))"
   ]
  },
  {
   "cell_type": "markdown",
   "metadata": {},
   "source": [
    "* print the first association rule"
   ]
  },
  {
   "cell_type": "code",
   "execution_count": 10,
   "metadata": {},
   "outputs": [
    {
     "name": "stdout",
     "output_type": "stream",
     "text": [
      "RelationRecord(items=frozenset({'Red Sparrow', 'Green Lantern'}), support=0.005732568990801226, ordered_statistics=[OrderedStatistic(items_base=frozenset({'Red Sparrow'}), items_add=frozenset({'Green Lantern'}), confidence=0.3006993006993007, lift=3.790832696715049)])\n"
     ]
    }
   ],
   "source": [
    "print(association_results[0])"
   ]
  },
  {
   "cell_type": "markdown",
   "metadata": {},
   "source": [
    "Above: Relation records show Red Sparrow and Green Lantern watched together"
   ]
  },
  {
   "cell_type": "code",
   "execution_count": null,
   "metadata": {
    "ExecuteTime": {
     "end_time": "2020-04-07T13:07:29.924870Z",
     "start_time": "2020-04-07T13:07:29.917054Z"
    }
   },
   "outputs": [],
   "source": []
  },
  {
   "cell_type": "markdown",
   "metadata": {},
   "source": [
    "* convert association rules to DataFrame \n",
    "    * use these columns: title_1, title_2, support, confidence, lift"
   ]
  },
  {
   "cell_type": "code",
   "execution_count": 36,
   "metadata": {},
   "outputs": [
    {
     "name": "stdout",
     "output_type": "stream",
     "text": [
      "RelationRecord(items=frozenset({'Red Sparrow', 'Green Lantern'}), support=0.005732568990801226, ordered_statistics=[OrderedStatistic(items_base=frozenset({'Red Sparrow'}), items_add=frozenset({'Green Lantern'}), confidence=0.3006993006993007, lift=3.790832696715049)])\n"
     ]
    },
    {
     "data": {
      "text/html": [
       "<div>\n",
       "<style scoped>\n",
       "    .dataframe tbody tr th:only-of-type {\n",
       "        vertical-align: middle;\n",
       "    }\n",
       "\n",
       "    .dataframe tbody tr th {\n",
       "        vertical-align: top;\n",
       "    }\n",
       "\n",
       "    .dataframe thead th {\n",
       "        text-align: right;\n",
       "    }\n",
       "</style>\n",
       "<table border=\"1\" class=\"dataframe\">\n",
       "  <thead>\n",
       "    <tr style=\"text-align: right;\">\n",
       "      <th></th>\n",
       "      <th>Title 1</th>\n",
       "      <th>Title 2</th>\n",
       "      <th>Support</th>\n",
       "      <th>Confidence</th>\n",
       "      <th>Lift</th>\n",
       "    </tr>\n",
       "  </thead>\n",
       "  <tbody>\n",
       "    <tr>\n",
       "      <th>0</th>\n",
       "      <td>Red Sparrow</td>\n",
       "      <td>Green Lantern</td>\n",
       "      <td>0.005732</td>\n",
       "      <td>0.300699</td>\n",
       "      <td>3.790832</td>\n",
       "    </tr>\n",
       "    <tr>\n",
       "      <th>1</th>\n",
       "      <td>Star Wars</td>\n",
       "      <td>Green Lantern</td>\n",
       "      <td>0.005865</td>\n",
       "      <td>0.372881</td>\n",
       "      <td>4.700811</td>\n",
       "    </tr>\n",
       "    <tr>\n",
       "      <th>2</th>\n",
       "      <td>Jumanji</td>\n",
       "      <td>Kung Fu Panda</td>\n",
       "      <td>0.015997</td>\n",
       "      <td>0.323450</td>\n",
       "      <td>3.291993</td>\n",
       "    </tr>\n",
       "    <tr>\n",
       "      <th>3</th>\n",
       "      <td>Jumanji</td>\n",
       "      <td>Wonder Woman</td>\n",
       "      <td>0.005332</td>\n",
       "      <td>0.377358</td>\n",
       "      <td>3.840659</td>\n",
       "    </tr>\n",
       "    <tr>\n",
       "      <th>4</th>\n",
       "      <td>The Spy Who Dumped Me</td>\n",
       "      <td>Spiderman 3</td>\n",
       "      <td>0.007998</td>\n",
       "      <td>0.271493</td>\n",
       "      <td>4.122410</td>\n",
       "    </tr>\n",
       "    <tr>\n",
       "      <th>5</th>\n",
       "      <td>Intern</td>\n",
       "      <td>The Revenant</td>\n",
       "      <td>0.005332</td>\n",
       "      <td>0.232558</td>\n",
       "      <td>3.254512</td>\n",
       "    </tr>\n",
       "    <tr>\n",
       "      <th>6</th>\n",
       "      <td>nan</td>\n",
       "      <td>Red Sparrow</td>\n",
       "      <td>0.005732</td>\n",
       "      <td>0.300699</td>\n",
       "      <td>3.790832</td>\n",
       "    </tr>\n",
       "    <tr>\n",
       "      <th>7</th>\n",
       "      <td>Star Wars</td>\n",
       "      <td>nan</td>\n",
       "      <td>0.005865</td>\n",
       "      <td>0.372881</td>\n",
       "      <td>4.700811</td>\n",
       "    </tr>\n",
       "    <tr>\n",
       "      <th>8</th>\n",
       "      <td>Jumanji</td>\n",
       "      <td>Intern</td>\n",
       "      <td>0.008665</td>\n",
       "      <td>0.311004</td>\n",
       "      <td>3.165328</td>\n",
       "    </tr>\n",
       "    <tr>\n",
       "      <th>9</th>\n",
       "      <td>The Revenant</td>\n",
       "      <td>Ninja Turtles</td>\n",
       "      <td>0.007199</td>\n",
       "      <td>0.305084</td>\n",
       "      <td>3.200616</td>\n",
       "    </tr>\n",
       "  </tbody>\n",
       "</table>\n",
       "</div>"
      ],
      "text/plain": [
       "                 Title 1        Title 2   Support Confidence      Lift\n",
       "0            Red Sparrow  Green Lantern  0.005732   0.300699  3.790832\n",
       "1              Star Wars  Green Lantern  0.005865   0.372881  4.700811\n",
       "2                Jumanji  Kung Fu Panda  0.015997   0.323450  3.291993\n",
       "3                Jumanji   Wonder Woman  0.005332   0.377358  3.840659\n",
       "4  The Spy Who Dumped Me    Spiderman 3  0.007998   0.271493  4.122410\n",
       "5                 Intern   The Revenant  0.005332   0.232558  3.254512\n",
       "6                    nan    Red Sparrow  0.005732   0.300699  3.790832\n",
       "7              Star Wars            nan  0.005865   0.372881  4.700811\n",
       "8                Jumanji         Intern  0.008665   0.311004  3.165328\n",
       "9           The Revenant  Ninja Turtles  0.007199   0.305084  3.200616"
      ]
     },
     "execution_count": 36,
     "metadata": {},
     "output_type": "execute_result"
    }
   ],
   "source": [
    "results = []\n",
    "\n",
    "# lets play around with these association results to extract what we need\n",
    "print(association_results[0]) # the whole rule\n",
    "\n",
    "for item in association_results:\n",
    "    pair = item[0]\n",
    "    items = [x for x in pair] # this gets them into a list format which can be indexed for the string values\n",
    "\n",
    "    value0 = str(items[0])\n",
    "    value1 = str(items[1])\n",
    "\n",
    "    support = str(item[1])[:8] # this is the support of the rule, we will add this to 6 decimal places, with the 0.\n",
    "\n",
    "    confidence = str(item[2][0][2])[:8] # this is the confidence of the rule\n",
    "    lift = str(item[2][0][3])[:8] # this is the lift of the rule\n",
    "\n",
    "    rows = (value0, value1, support, confidence, lift)\n",
    "    results.append(rows)\n",
    "\n",
    "col_labels = ['Title 1', 'Title 2', 'Support', 'Confidence', 'Lift']\n",
    "results_df = pd.DataFrame(results, columns=col_labels)\n",
    "\n",
    "results_df.head(10)\n"
   ]
  },
  {
   "cell_type": "markdown",
   "metadata": {},
   "source": [
    "I used the string formatting once we extracted the numerical values to clean up the large trailing decimal places"
   ]
  },
  {
   "cell_type": "code",
   "execution_count": null,
   "metadata": {
    "ExecuteTime": {
     "end_time": "2020-04-30T11:42:41.014360Z",
     "start_time": "2020-04-30T11:42:40.984827Z"
    }
   },
   "outputs": [],
   "source": []
  }
 ],
 "metadata": {
  "kernelspec": {
   "display_name": "Python 3",
   "language": "python",
   "name": "python3"
  },
  "language_info": {
   "codemirror_mode": {
    "name": "ipython",
    "version": 3
   },
   "file_extension": ".py",
   "mimetype": "text/x-python",
   "name": "python",
   "nbconvert_exporter": "python",
   "pygments_lexer": "ipython3",
   "version": "3.12.2"
  },
  "toc": {
   "base_numbering": 1,
   "nav_menu": {},
   "number_sections": true,
   "sideBar": true,
   "skip_h1_title": false,
   "title_cell": "Table of Contents",
   "title_sidebar": "Contents",
   "toc_cell": false,
   "toc_position": {},
   "toc_section_display": true,
   "toc_window_display": false
  },
  "varInspector": {
   "cols": {
    "lenName": 16,
    "lenType": 16,
    "lenVar": 40
   },
   "kernels_config": {
    "python": {
     "delete_cmd_postfix": "",
     "delete_cmd_prefix": "del ",
     "library": "var_list.py",
     "varRefreshCmd": "print(var_dic_list())"
    },
    "r": {
     "delete_cmd_postfix": ") ",
     "delete_cmd_prefix": "rm(",
     "library": "var_list.r",
     "varRefreshCmd": "cat(var_dic_list()) "
    }
   },
   "types_to_exclude": [
    "module",
    "function",
    "builtin_function_or_method",
    "instance",
    "_Feature"
   ],
   "window_display": false
  }
 },
 "nbformat": 4,
 "nbformat_minor": 4
}
