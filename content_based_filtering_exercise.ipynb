{
 "cells": [
  {
   "cell_type": "code",
   "execution_count": 1,
   "metadata": {
    "ExecuteTime": {
     "end_time": "2020-04-30T11:38:37.047559Z",
     "start_time": "2020-04-30T11:38:35.905481Z"
    }
   },
   "outputs": [],
   "source": [
    "# import pandas\n",
    "import pandas as pd\n",
    "\n",
    "# import TfidfVectorizer\n",
    "from sklearn.feature_extraction.text import TfidfVectorizer\n",
    "\n",
    "# import cosine_similarity\n",
    "from sklearn.metrics.pairwise import cosine_similarity"
   ]
  },
  {
   "cell_type": "code",
   "execution_count": 2,
   "metadata": {
    "ExecuteTime": {
     "end_time": "2020-04-30T11:38:37.699655Z",
     "start_time": "2020-04-30T11:38:37.111767Z"
    }
   },
   "outputs": [],
   "source": [
    "# import data\n",
    "df = pd.read_csv(\"https://raw.githubusercontent.com/nikitaa30/Content-based-Recommender-System/master/sample-data.csv\")"
   ]
  },
  {
   "cell_type": "code",
   "execution_count": 3,
   "metadata": {},
   "outputs": [
    {
     "data": {
      "text/html": [
       "<div>\n",
       "<style scoped>\n",
       "    .dataframe tbody tr th:only-of-type {\n",
       "        vertical-align: middle;\n",
       "    }\n",
       "\n",
       "    .dataframe tbody tr th {\n",
       "        vertical-align: top;\n",
       "    }\n",
       "\n",
       "    .dataframe thead th {\n",
       "        text-align: right;\n",
       "    }\n",
       "</style>\n",
       "<table border=\"1\" class=\"dataframe\">\n",
       "  <thead>\n",
       "    <tr style=\"text-align: right;\">\n",
       "      <th></th>\n",
       "      <th>id</th>\n",
       "      <th>description</th>\n",
       "    </tr>\n",
       "  </thead>\n",
       "  <tbody>\n",
       "    <tr>\n",
       "      <th>0</th>\n",
       "      <td>1</td>\n",
       "      <td>Active classic boxers - There's a reason why o...</td>\n",
       "    </tr>\n",
       "    <tr>\n",
       "      <th>1</th>\n",
       "      <td>2</td>\n",
       "      <td>Active sport boxer briefs - Skinning up Glory ...</td>\n",
       "    </tr>\n",
       "    <tr>\n",
       "      <th>2</th>\n",
       "      <td>3</td>\n",
       "      <td>Active sport briefs - These superbreathable no...</td>\n",
       "    </tr>\n",
       "    <tr>\n",
       "      <th>3</th>\n",
       "      <td>4</td>\n",
       "      <td>Alpine guide pants - Skin in, climb ice, switc...</td>\n",
       "    </tr>\n",
       "    <tr>\n",
       "      <th>4</th>\n",
       "      <td>5</td>\n",
       "      <td>Alpine wind jkt - On high ridges, steep ice an...</td>\n",
       "    </tr>\n",
       "    <tr>\n",
       "      <th>...</th>\n",
       "      <td>...</td>\n",
       "      <td>...</td>\n",
       "    </tr>\n",
       "    <tr>\n",
       "      <th>495</th>\n",
       "      <td>496</td>\n",
       "      <td>Cap 2 bottoms - Cut loose from the maddening c...</td>\n",
       "    </tr>\n",
       "    <tr>\n",
       "      <th>496</th>\n",
       "      <td>497</td>\n",
       "      <td>Cap 2 crew - This crew takes the edge off fick...</td>\n",
       "    </tr>\n",
       "    <tr>\n",
       "      <th>497</th>\n",
       "      <td>498</td>\n",
       "      <td>All-time shell - No need to use that morning T...</td>\n",
       "    </tr>\n",
       "    <tr>\n",
       "      <th>498</th>\n",
       "      <td>499</td>\n",
       "      <td>All-wear cargo shorts - All-Wear Cargo Shorts ...</td>\n",
       "    </tr>\n",
       "    <tr>\n",
       "      <th>499</th>\n",
       "      <td>500</td>\n",
       "      <td>All-wear shorts - Time to simplify? Our All-We...</td>\n",
       "    </tr>\n",
       "  </tbody>\n",
       "</table>\n",
       "<p>500 rows × 2 columns</p>\n",
       "</div>"
      ],
      "text/plain": [
       "      id                                        description\n",
       "0      1  Active classic boxers - There's a reason why o...\n",
       "1      2  Active sport boxer briefs - Skinning up Glory ...\n",
       "2      3  Active sport briefs - These superbreathable no...\n",
       "3      4  Alpine guide pants - Skin in, climb ice, switc...\n",
       "4      5  Alpine wind jkt - On high ridges, steep ice an...\n",
       "..   ...                                                ...\n",
       "495  496  Cap 2 bottoms - Cut loose from the maddening c...\n",
       "496  497  Cap 2 crew - This crew takes the edge off fick...\n",
       "497  498  All-time shell - No need to use that morning T...\n",
       "498  499  All-wear cargo shorts - All-Wear Cargo Shorts ...\n",
       "499  500  All-wear shorts - Time to simplify? Our All-We...\n",
       "\n",
       "[500 rows x 2 columns]"
      ]
     },
     "execution_count": 3,
     "metadata": {},
     "output_type": "execute_result"
    }
   ],
   "source": [
    "df"
   ]
  },
  {
   "cell_type": "markdown",
   "metadata": {},
   "source": [
    "* explore DataFrame\n",
    "\n",
    "it looks like just the id column and \"clothing title name - description\" in description.\n",
    "So we could split off the title of the apparel before the hyphen - it looks like it should be formatted that way\n",
    "\n",
    "However, let's keep it for now because one column is used to scan the item description and the title of the garment is very useful for similarity"
   ]
  },
  {
   "cell_type": "code",
   "execution_count": 4,
   "metadata": {},
   "outputs": [
    {
     "data": {
      "text/html": [
       "<div>\n",
       "<style scoped>\n",
       "    .dataframe tbody tr th:only-of-type {\n",
       "        vertical-align: middle;\n",
       "    }\n",
       "\n",
       "    .dataframe tbody tr th {\n",
       "        vertical-align: top;\n",
       "    }\n",
       "\n",
       "    .dataframe thead th {\n",
       "        text-align: right;\n",
       "    }\n",
       "</style>\n",
       "<table border=\"1\" class=\"dataframe\">\n",
       "  <thead>\n",
       "    <tr style=\"text-align: right;\">\n",
       "      <th></th>\n",
       "      <th>id</th>\n",
       "      <th>description</th>\n",
       "    </tr>\n",
       "  </thead>\n",
       "  <tbody>\n",
       "    <tr>\n",
       "      <th>0</th>\n",
       "      <td>1</td>\n",
       "      <td>Active classic boxers - There's a reason why o...</td>\n",
       "    </tr>\n",
       "    <tr>\n",
       "      <th>1</th>\n",
       "      <td>2</td>\n",
       "      <td>Active sport boxer briefs - Skinning up Glory ...</td>\n",
       "    </tr>\n",
       "    <tr>\n",
       "      <th>2</th>\n",
       "      <td>3</td>\n",
       "      <td>Active sport briefs - These superbreathable no...</td>\n",
       "    </tr>\n",
       "  </tbody>\n",
       "</table>\n",
       "</div>"
      ],
      "text/plain": [
       "   id                                        description\n",
       "0   1  Active classic boxers - There's a reason why o...\n",
       "1   2  Active sport boxer briefs - Skinning up Glory ...\n",
       "2   3  Active sport briefs - These superbreathable no..."
      ]
     },
     "execution_count": 4,
     "metadata": {},
     "output_type": "execute_result"
    }
   ],
   "source": [
    "df.head(3)"
   ]
  },
  {
   "cell_type": "markdown",
   "metadata": {},
   "source": [
    "We will be using Tf-Idf to find similar items based on description\n",
    "* instantiate TF-IDF"
   ]
  },
  {
   "cell_type": "code",
   "execution_count": 5,
   "metadata": {
    "ExecuteTime": {
     "end_time": "2020-04-30T11:34:35.873143Z",
     "start_time": "2020-04-30T11:34:35.867457Z"
    }
   },
   "outputs": [],
   "source": [
    "#Import TfIdfVectorizer from scikit-learn\n",
    "from sklearn.feature_extraction.text import TfidfVectorizer\n",
    "\n",
    "#Define a TF-IDF Vectorizer Object. Remove all english stop words such as 'the', 'a'\n",
    "tfidf = TfidfVectorizer(stop_words='english')"
   ]
  },
  {
   "cell_type": "markdown",
   "metadata": {},
   "source": [
    "* fit and transform 'description' column with TFIDF"
   ]
  },
  {
   "cell_type": "code",
   "execution_count": 7,
   "metadata": {},
   "outputs": [],
   "source": [
    "#Replace NaN with an empty string\n",
    "df['description'] = df['description'].fillna('')\n",
    "\n",
    "#Construct the required TF-IDF matrix by fitting and transforming the data\n",
    "tfidf_matrix = tfidf.fit_transform(df['description'])"
   ]
  },
  {
   "cell_type": "code",
   "execution_count": 8,
   "metadata": {
    "ExecuteTime": {
     "end_time": "2020-04-30T11:34:36.771694Z",
     "start_time": "2020-04-30T11:34:36.413145Z"
    }
   },
   "outputs": [
    {
     "data": {
      "text/plain": [
       "(500, 4600)"
      ]
     },
     "execution_count": 8,
     "metadata": {},
     "output_type": "execute_result"
    }
   ],
   "source": [
    "tfidf_matrix.shape"
   ]
  },
  {
   "cell_type": "markdown",
   "metadata": {},
   "source": [
    "* calculate the cosine similarity of each item with every other item in the dataset, "
   ]
  },
  {
   "cell_type": "code",
   "execution_count": 9,
   "metadata": {},
   "outputs": [],
   "source": [
    "# Import linear_kernel\n",
    "from sklearn.metrics.pairwise import linear_kernel\n",
    "\n",
    "# Compute the cosine similarity matrix\n",
    "cosine_sim = linear_kernel(tfidf_matrix, tfidf_matrix)"
   ]
  },
  {
   "cell_type": "code",
   "execution_count": 11,
   "metadata": {},
   "outputs": [
    {
     "data": {
      "text/plain": [
       "(500, 500)"
      ]
     },
     "execution_count": 11,
     "metadata": {},
     "output_type": "execute_result"
    }
   ],
   "source": [
    "cosine_sim.shape # 500 items each with a similarity score to every other item, checks out"
   ]
  },
  {
   "cell_type": "code",
   "execution_count": 13,
   "metadata": {},
   "outputs": [
    {
     "data": {
      "text/plain": [
       "array([0.31005145, 1.        , 0.57514356, 0.18551749, 0.16517315,\n",
       "       0.13065451, 0.14784825, 0.10154623, 0.10983601, 0.08954645,\n",
       "       0.18021133, 0.16158732, 0.10784675, 0.09073733, 0.18599643,\n",
       "       0.19864233, 0.08458325, 0.23177543, 0.30147807, 0.15001722,\n",
       "       0.14583559, 0.16563885, 0.17639399, 0.137909  , 0.18356507,\n",
       "       0.12907323, 0.10623488, 0.10658333, 0.15266359, 0.15834916,\n",
       "       0.09514234, 0.16008902, 0.0964505 , 0.18607527, 0.10941243,\n",
       "       0.10407664, 0.13703602, 0.10710244, 0.10767107, 0.14878977,\n",
       "       0.11312067, 0.06683643, 0.15743388, 0.16590553, 0.14903443,\n",
       "       0.16836947, 0.11368272, 0.04495455, 0.06978153, 0.08880231,\n",
       "       0.08168903, 0.15055182, 0.1381053 , 0.09895573, 0.15137049,\n",
       "       0.11744756, 0.12512088, 0.17672326, 0.1824234 , 0.12104068,\n",
       "       0.1793333 , 0.15213401, 0.17384013, 0.17302115, 0.17062298,\n",
       "       0.10639813, 0.07123265, 0.10254366, 0.0478789 , 0.16268414,\n",
       "       0.11443416, 0.11057233, 0.13267991, 0.09166135, 0.18177396,\n",
       "       0.1432455 , 0.17811147, 0.09053703, 0.13030131, 0.11940297,\n",
       "       0.12517403, 0.14210344, 0.06769391, 0.08083279, 0.08029801,\n",
       "       0.09851054, 0.12903817, 0.14557634, 0.15944648, 0.15573315,\n",
       "       0.11298648, 0.18092518, 0.08420765, 0.07105799, 0.10641989,\n",
       "       0.10584169, 0.17151981, 0.12141717, 0.07103773, 0.17265141,\n",
       "       0.08080782, 0.10604189, 0.08469433, 0.15580539, 0.19094866,\n",
       "       0.16860171, 0.09271054, 0.11670971, 0.11618343, 0.13184277,\n",
       "       0.08484554, 0.17730807, 0.1314037 , 0.13659885, 0.21455338,\n",
       "       0.13943331, 0.12885027, 0.14770274, 0.14807186, 0.14880617,\n",
       "       0.08447679, 0.08341323, 0.06513411, 0.13085417, 0.13634913,\n",
       "       0.12584278, 0.12216657, 0.14013761, 0.10474617, 0.07750028,\n",
       "       0.10203402, 0.10879183, 0.09825899, 0.06556595, 0.07406738,\n",
       "       0.11079082, 0.06925472, 0.12164801, 0.11340603, 0.0919188 ,\n",
       "       0.09910349, 0.07217304, 0.14396303, 0.11509103, 0.10410362,\n",
       "       0.22395771, 0.15879507, 0.13547051, 0.1098882 , 0.08563165,\n",
       "       0.0999865 , 0.09317994, 0.08181387, 0.0817967 , 0.20202801,\n",
       "       0.22983797, 0.20341185, 0.11243468, 0.19269043, 0.1311455 ,\n",
       "       0.09215728, 0.0916417 , 0.11851058, 0.17462649, 0.14783432,\n",
       "       0.08432749, 0.1367057 , 0.21117346, 0.12515066, 0.11454677,\n",
       "       0.19505174, 0.14744988, 0.21412825, 0.14585955, 0.15832199,\n",
       "       0.16782445, 0.09151619, 0.11358639, 0.09815829, 0.1556956 ,\n",
       "       0.09122108, 0.11831196, 0.13939766, 0.13547217, 0.12827599,\n",
       "       0.14715441, 0.18344321, 0.17456164, 0.13160113, 0.10904359,\n",
       "       0.08409444, 0.08898327, 0.15130631, 0.08645418, 0.16647306,\n",
       "       0.12336404, 0.08009535, 0.09731174, 0.13582893, 0.13611067,\n",
       "       0.14138918, 0.13397391, 0.11587201, 0.10923108, 0.22603369,\n",
       "       0.15861427, 0.17087147, 0.15966756, 0.190923  , 0.1153628 ,\n",
       "       0.13724054, 0.08926763, 0.2098625 , 0.2511891 , 0.13542631,\n",
       "       0.14723804, 0.16888604, 0.11526504, 0.13292422, 0.10070611,\n",
       "       0.17212767, 0.15063846, 0.19196306, 0.18877247, 0.10441531,\n",
       "       0.18924903, 0.11060193, 0.09192096, 0.12895546, 0.11769182,\n",
       "       0.15577026, 0.16794344, 0.11407875, 0.13585023, 0.119754  ,\n",
       "       0.13045766, 0.14318381, 0.04829636, 0.10941381, 0.12958412,\n",
       "       0.12286206, 0.15130795, 0.13389187, 0.09281587, 0.13568838,\n",
       "       0.14309611, 0.13622958, 0.10649603, 0.09753116, 0.11085609,\n",
       "       0.08718308, 0.13335115, 0.09241843, 0.12123698, 0.1388577 ,\n",
       "       0.13670605, 0.11265832, 0.21369154, 0.22568844, 0.13724121,\n",
       "       0.116775  , 0.14000916, 0.15109045, 0.16059944, 0.13605991,\n",
       "       0.15261154, 0.11405441, 0.12883321, 0.12701633, 0.12842587,\n",
       "       0.14119875, 0.16584865, 0.2400807 , 0.08291688, 0.09877265,\n",
       "       0.11524271, 0.17005332, 0.12094155, 0.11279644, 0.10251191,\n",
       "       0.10331749, 0.09589127, 0.13420438, 0.13901617, 0.10180477,\n",
       "       0.08512365, 0.21254814, 0.10381802, 0.13512517, 0.16390938,\n",
       "       0.13206044, 0.13511275, 0.09214995, 0.14402608, 0.12261227,\n",
       "       0.09688959, 0.10017639, 0.10350781, 0.25710035, 0.2839562 ,\n",
       "       0.20143112, 0.12692701, 0.16459336, 0.14884899, 0.17270573,\n",
       "       0.1857683 , 0.08906444, 0.165895  , 0.11277739, 0.09372195,\n",
       "       0.09634005, 0.15933888, 0.09594606, 0.0815613 , 0.13176313,\n",
       "       0.14312361, 0.12856934, 0.1966534 , 0.04623481, 0.1121251 ,\n",
       "       0.13447539, 0.11347094, 0.13660234, 0.21774428, 0.19345499,\n",
       "       0.18348047, 0.08276809, 0.2239651 , 0.21852437, 0.21419847,\n",
       "       0.21399125, 0.04509667, 0.10906827, 0.10416875, 0.11940946,\n",
       "       0.09230354, 0.13145885, 0.10112302, 0.11466569, 0.14948236,\n",
       "       0.15876309, 0.13195626, 0.19544824, 0.0868319 , 0.08377971,\n",
       "       0.09134926, 0.12239734, 0.14178942, 0.10912562, 0.14766579,\n",
       "       0.09261659, 0.06382149, 0.1856419 , 0.10381541, 0.08167494,\n",
       "       0.11773461, 0.11110296, 0.14541426, 0.16652655, 0.16462502,\n",
       "       0.17813563, 0.11450689, 0.10034239, 0.11482154, 0.18379293,\n",
       "       0.1227244 , 0.08173805, 0.08764917, 0.10520344, 0.10533976,\n",
       "       0.04199527, 0.10430872, 0.10680415, 0.10490911, 0.11777446,\n",
       "       0.10580176, 0.09368336, 0.15295201, 0.16511885, 0.14072246,\n",
       "       0.15550047, 0.09269943, 0.12691149, 0.1738279 , 0.12576855,\n",
       "       0.1165674 , 0.12970529, 0.13667136, 0.08461507, 0.11708798,\n",
       "       0.13069201, 0.13245895, 0.09740047, 0.08443285, 0.19015048,\n",
       "       0.04627724, 0.12642356, 0.12542292, 0.1446522 , 0.16895134,\n",
       "       0.09259292, 0.18690067, 0.15123969, 0.10114569, 0.08018806,\n",
       "       0.1627815 , 0.15067595, 0.1435208 , 0.14218658, 0.08179858,\n",
       "       0.1558352 , 0.13421502, 0.13923852, 0.09819764, 0.12131219,\n",
       "       0.11103969, 0.16621067, 0.14819677, 0.17867476, 0.11832628,\n",
       "       0.06701143, 0.07081538, 0.10665831, 0.08821829, 0.06177746,\n",
       "       0.09935256, 0.16675241, 0.15591883, 0.10787844, 0.07297967,\n",
       "       0.0634959 , 0.16846322, 0.1697442 , 0.09026338, 0.14405653,\n",
       "       0.11631084, 0.10648467, 0.1368527 , 0.08963256, 0.15931803,\n",
       "       0.14226821, 0.17150267, 0.12309595, 0.12300678, 0.13233005,\n",
       "       0.16569762, 0.09013551, 0.10261835, 0.07967635, 0.21896716,\n",
       "       0.12898961, 0.10679557, 0.12664009, 0.16585748, 0.07312451,\n",
       "       0.05848316, 0.10178396, 0.10363211, 0.0960377 , 0.1284542 ,\n",
       "       0.1048978 , 0.16027164, 0.16076863, 0.09596322, 0.07517834,\n",
       "       0.13674459, 0.13255713, 0.07220767, 0.0970678 , 0.13737095,\n",
       "       0.13307025, 0.13944158, 0.0994979 , 0.1292856 , 0.10897686,\n",
       "       0.13239365, 0.12271467, 0.11260111, 0.09441938, 0.1855874 ,\n",
       "       0.13718991, 0.1378182 , 0.16907394, 0.16903193, 0.19876164,\n",
       "       0.05983324, 0.1506202 , 0.15137823, 0.11960503, 0.04582668,\n",
       "       0.13349405, 0.08511322, 0.13162062, 0.2972114 , 0.25223671,\n",
       "       0.2316405 , 0.17177271, 0.11131481, 0.2053139 , 0.18008906])"
      ]
     },
     "execution_count": 13,
     "metadata": {},
     "output_type": "execute_result"
    }
   ],
   "source": [
    "cosine_sim[1] # looks good, array of 0 -> 1 similarity scores"
   ]
  },
  {
   "cell_type": "markdown",
   "metadata": {
    "ExecuteTime": {
     "end_time": "2020-04-30T11:35:42.314473Z",
     "start_time": "2020-04-30T11:35:41.640441Z"
    }
   },
   "source": [
    "* sort all items using their similarity for each item i, and store the values in dictionary `results`\n",
    "\n",
    "```\n",
    "results = {\n",
    "    \"1\": [5,7,9...],\n",
    "    \"2\": [45,2,3...]\n",
    "}\n",
    "```"
   ]
  },
  {
   "cell_type": "code",
   "execution_count": 21,
   "metadata": {},
   "outputs": [],
   "source": [
    "import numpy as np\n",
    "\n",
    "# Create an empty dictionary to store the results\n",
    "results = {}\n",
    "\n",
    "# Iterate through each item (row) in the cosine similarity matrix\n",
    "for i in range(cosine_sim.shape[0]): # Loop through each row, range is the number of rows\n",
    "    # Get the similarities for the current item (row)\n",
    "    similarity_scores = cosine_sim[i]\n",
    "    \n",
    "    # Sort the indices of the similarities in descending order\n",
    "    sorted_indices = np.argsort(-similarity_scores)  # Negative sign for descending order\n",
    "    \n",
    "    # Store the sorted indices (other item IDs) in the dictionary\n",
    "    results[str(i + 1)] = sorted_indices.tolist()\n",
    "\n",
    "    # exclude the first item, which is the item itself\n",
    "    results[str(i + 1)] = results[str(i + 1)][1:]\n",
    "\n",
    "# Now `results` contains the sorted items for each item\n"
   ]
  },
  {
   "cell_type": "code",
   "execution_count": 25,
   "metadata": {},
   "outputs": [
    {
     "name": "stdout",
     "output_type": "stream",
     "text": [
      "1 [18, 493, 494, 364, 441, 495, 171, 17, 1, 24, 60, 439, 170, 412, 496, 175, 339, 440, 20, 23, 486, 173, 442, 172, 358, 19, 59, 487, 340, 359, 328, 22, 21, 174, 449, 405, 91, 179, 146, 45, 61, 265, 99, 324, 327, 63, 499, 329, 311, 418, 10, 334, 276, 391, 109, 302, 29, 11, 390, 357, 445, 2, 28, 206, 204, 213, 208, 498, 118, 145, 459, 117, 87, 349, 283, 323, 158, 427, 258, 259, 264, 330, 200, 482, 199, 54, 275, 104, 57, 3, 481, 88, 235, 480, 36, 86, 465, 271, 394, 44, 325, 62, 401, 305, 406, 201, 89, 42, 33, 169, 384, 64, 287, 365, 432, 156, 408, 320, 69, 56, 96, 39, 431, 415, 437, 286, 159, 186, 111, 187, 203, 222, 183, 272, 167, 228, 105, 268, 333, 304, 300, 269, 453, 399, 103, 212, 226, 137, 163, 177, 411, 192, 116, 8, 346, 308, 317, 426, 185, 460, 97, 479, 127, 416, 387, 15, 230, 301, 471, 462, 207, 450, 461, 31, 194, 72, 293, 223, 74, 335, 403, 75, 160, 373, 452, 484, 347, 307, 124, 233, 444, 298, 497, 4, 263, 239, 229, 380, 261, 119, 457, 402, 247, 483, 303, 202, 282, 14, 414, 254, 65, 244, 215, 195, 210, 410, 58, 51, 385, 476, 374, 352, 342, 360, 76, 143, 148, 490, 284, 316, 176, 115, 478, 46, 114, 216, 458, 266, 162, 294, 43, 123, 474, 389, 369, 368, 107, 81, 277, 361, 108, 245, 155, 125, 218, 443, 290, 322, 256, 379, 188, 209, 166, 225, 154, 363, 398, 55, 388, 451, 27, 144, 26, 253, 396, 184, 246, 291, 140, 25, 214, 319, 274, 314, 80, 288, 299, 5, 413, 466, 168, 164, 321, 138, 205, 249, 238, 336, 131, 231, 242, 52, 182, 435, 407, 362, 251, 355, 372, 469, 422, 147, 345, 180, 377, 71, 126, 409, 417, 477, 378, 341, 260, 106, 350, 262, 382, 400, 492, 189, 157, 94, 488, 470, 356, 473, 338, 386, 67, 90, 6, 475, 224, 267, 279, 248, 193, 198, 423, 332, 257, 234, 292, 392, 232, 315, 310, 130, 448, 139, 236, 13, 132, 472, 40, 367, 35, 120, 92, 468, 178, 309, 241, 77, 255, 101, 343, 221, 70, 73, 383, 296, 190, 371, 295, 297, 217, 227, 34, 142, 220, 278, 95, 270, 181, 161, 456, 428, 375, 165, 150, 250, 79, 376, 280, 312, 151, 83, 397, 425, 78, 7, 447, 436, 219, 141, 404, 37, 446, 313, 281, 32, 38, 110, 434, 289, 285, 491, 197, 149, 100, 353, 191, 393, 152, 153, 366, 354, 463, 326, 50, 98, 102, 381, 128, 464, 348, 129, 240, 273, 84, 121, 196, 337, 12, 66, 211, 122, 344, 243, 419, 134, 252, 85, 306, 429, 16, 135, 93, 467, 454, 82, 9, 112, 351, 30, 136, 421, 49, 485, 113, 455, 53, 420, 438, 133, 237, 48, 433, 430, 395, 68, 41, 47, 424, 318, 489, 331, 370]\n",
      "2 [2, 0, 18, 493, 299, 298, 494, 213, 272, 17, 495, 155, 204, 258, 327, 145, 449, 328, 323, 114, 329, 172, 330, 257, 286, 167, 212, 498, 156, 154, 300, 484, 15, 317, 342, 170, 324, 158, 222, 104, 208, 394, 225, 223, 401, 33, 14, 305, 352, 479, 3, 364, 24, 325, 186, 58, 74, 91, 10, 499, 60, 418, 360, 76, 111, 57, 22, 163, 187, 62, 383, 63, 304, 99, 220, 496, 96, 441, 206, 64, 276, 432, 482, 483, 399, 216, 105, 431, 45, 231, 175, 426, 358, 194, 416, 43, 307, 453, 271, 445, 21, 4, 378, 359, 302, 289, 405, 69, 11, 462, 263, 461, 31, 207, 88, 311, 439, 146, 340, 205, 29, 174, 42, 427, 410, 103, 230, 89, 179, 380, 377, 28, 265, 61, 487, 54, 241, 192, 402, 262, 406, 221, 486, 51, 19, 339, 44, 303, 119, 39, 417, 118, 6, 164, 117, 349, 171, 215, 185, 173, 20, 87, 357, 398, 434, 293, 142, 407, 75, 236, 315, 245, 440, 408, 81, 347, 200, 270, 379, 127, 261, 471, 115, 182, 412, 283, 254, 52, 23, 481, 469, 259, 210, 480, 36, 437, 465, 255, 166, 387, 322, 113, 124, 246, 199, 264, 233, 198, 244, 183, 147, 214, 288, 291, 320, 411, 282, 201, 242, 490, 251, 470, 218, 72, 466, 391, 475, 444, 290, 341, 109, 314, 492, 188, 336, 112, 159, 123, 390, 5, 235, 78, 386, 239, 473, 25, 86, 450, 228, 116, 267, 316, 459, 269, 184, 268, 301, 382, 452, 396, 125, 384, 397, 80, 168, 56, 195, 442, 443, 240, 365, 476, 294, 346, 126, 137, 97, 414, 253, 59, 277, 234, 488, 334, 79, 162, 419, 181, 374, 355, 229, 55, 389, 260, 107, 385, 435, 108, 202, 209, 217, 275, 143, 363, 338, 169, 361, 70, 232, 266, 46, 177, 321, 138, 40, 90, 278, 308, 256, 477, 157, 319, 497, 356, 415, 249, 135, 226, 71, 148, 8, 238, 34, 203, 348, 332, 189, 474, 131, 428, 12, 38, 37, 372, 451, 422, 27, 247, 436, 94, 65, 26, 101, 95, 375, 369, 368, 373, 460, 128, 224, 371, 333, 144, 35, 287, 353, 457, 297, 280, 447, 67, 279, 130, 284, 456, 7, 403, 337, 219, 362, 296, 150, 472, 425, 140, 53, 274, 85, 132, 413, 178, 248, 392, 197, 468, 295, 32, 310, 458, 463, 312, 281, 30, 478, 309, 376, 151, 243, 106, 381, 350, 400, 252, 335, 160, 292, 227, 139, 73, 161, 176, 345, 180, 13, 77, 433, 446, 438, 9, 211, 306, 191, 49, 423, 367, 250, 343, 193, 149, 285, 491, 110, 102, 388, 16, 120, 393, 165, 92, 190, 344, 121, 273, 326, 152, 409, 153, 366, 50, 354, 313, 83, 100, 84, 404, 196, 448, 129, 464, 134, 454, 429, 467, 141, 66, 93, 98, 421, 48, 136, 82, 420, 41, 133, 122, 351, 430, 424, 485, 455, 237, 68, 395, 318, 489, 331, 47, 370]\n",
      "3 [1, 494, 299, 155, 298, 493, 330, 257, 154, 18, 10, 105, 495, 21, 327, 104, 358, 258, 51, 496, 24, 325, 382, 61, 407, 328, 223, 11, 471, 231, 359, 44, 235, 317, 0, 289, 263, 173, 52, 418, 377, 329, 443, 397, 75, 175, 262, 156, 22, 402, 124, 208, 163, 307, 4, 6, 487, 54, 449, 300, 417, 324, 167, 341, 286, 15, 340, 222, 74, 142, 444, 241, 172, 445, 221, 91, 198, 276, 205, 114, 135, 315, 360, 76, 291, 225, 164, 99, 357, 433, 42, 217, 213, 272, 179, 411, 416, 194, 58, 441, 401, 19, 486, 174, 282, 271, 339, 127, 398, 200, 113, 477, 322, 112, 119, 215, 182, 419, 103, 207, 96, 171, 60, 259, 352, 20, 17, 323, 186, 39, 81, 342, 199, 264, 57, 147, 111, 212, 450, 242, 158, 440, 62, 305, 437, 311, 251, 63, 316, 379, 187, 183, 206, 64, 34, 361, 304, 261, 453, 3, 432, 33, 145, 216, 254, 499, 336, 431, 14, 204, 442, 80, 386, 294, 5, 267, 268, 385, 144, 246, 435, 192, 479, 384, 214, 28, 89, 56, 146, 412, 218, 438, 87, 45, 290, 320, 130, 266, 426, 281, 399, 347, 46, 301, 239, 439, 414, 23, 72, 125, 406, 118, 116, 117, 349, 308, 459, 209, 484, 253, 53, 387, 392, 43, 245, 363, 233, 240, 469, 270, 224, 234, 195, 148, 483, 244, 226, 427, 88, 355, 69, 8, 498, 170, 394, 115, 131, 470, 49, 408, 162, 288, 59, 415, 255, 353, 283, 465, 473, 7, 256, 367, 65, 203, 260, 476, 219, 374, 380, 462, 269, 229, 201, 461, 188, 31, 126, 78, 277, 319, 210, 472, 178, 364, 378, 490, 334, 86, 482, 391, 346, 405, 137, 232, 40, 109, 247, 55, 403, 37, 460, 97, 474, 390, 278, 468, 428, 123, 383, 425, 30, 230, 302, 12, 185, 410, 356, 284, 189, 159, 166, 143, 220, 293, 338, 396, 475, 77, 466, 265, 275, 79, 436, 132, 321, 138, 248, 463, 238, 228, 492, 71, 314, 467, 362, 488, 95, 287, 197, 332, 310, 38, 337, 295, 202, 456, 25, 50, 454, 434, 297, 280, 29, 422, 381, 184, 94, 372, 101, 227, 389, 107, 296, 108, 373, 452, 169, 150, 177, 191, 309, 168, 371, 333, 35, 400, 249, 70, 236, 458, 32, 149, 67, 497, 211, 90, 365, 413, 190, 348, 161, 13, 9, 457, 243, 312, 152, 153, 141, 481, 366, 252, 354, 480, 36, 73, 279, 181, 343, 151, 376, 160, 345, 451, 16, 27, 303, 375, 180, 26, 335, 388, 92, 83, 157, 409, 464, 447, 393, 139, 140, 274, 165, 129, 176, 250, 306, 446, 196, 106, 350, 93, 478, 485, 369, 368, 292, 285, 491, 102, 120, 98, 121, 100, 110, 193, 273, 423, 326, 448, 84, 134, 421, 420, 313, 41, 430, 404, 122, 66, 128, 344, 82, 48, 351, 424, 455, 85, 429, 133, 136, 237, 68, 395, 318, 370, 489, 331, 47]\n",
      "4 [158, 383, 378, 342, 119, 215, 183, 352, 437, 330, 213, 114, 212, 301, 216, 307, 4, 231, 142, 5, 348, 187, 304, 45, 453, 140, 274, 85, 415, 186, 28, 386, 305, 267, 208, 203, 413, 99, 54, 209, 327, 206, 363, 95, 222, 96, 111, 328, 44, 15, 381, 401, 280, 211, 402, 414, 351, 443, 34, 223, 323, 51, 58, 471, 408, 14, 106, 468, 350, 329, 178, 444, 472, 279, 32, 399, 479, 484, 159, 497, 423, 258, 385, 156, 388, 286, 283, 84, 196, 170, 449, 273, 326, 357, 398, 145, 167, 266, 160, 207, 439, 6, 387, 441, 42, 292, 457, 171, 228, 493, 324, 235, 353, 311, 281, 483, 50, 91, 463, 128, 495, 69, 118, 117, 349, 18, 426, 465, 17, 394, 438, 450, 1, 436, 60, 61, 393, 103, 49, 499, 105, 320, 404, 12, 255, 24, 380, 146, 175, 172, 427, 165, 0, 56, 308, 210, 303, 93, 179, 322, 104, 33, 8, 420, 152, 153, 366, 354, 339, 23, 11, 205, 377, 81, 188, 291, 43, 239, 293, 52, 262, 30, 41, 460, 233, 462, 19, 325, 461, 418, 66, 31, 57, 341, 282, 83, 149, 496, 10, 459, 133, 62, 467, 63, 20, 197, 185, 407, 454, 364, 435, 229, 302, 64, 432, 226, 440, 431, 294, 442, 405, 367, 110, 494, 75, 392, 476, 355, 82, 204, 464, 88, 265, 336, 116, 39, 48, 485, 2, 455, 379, 127, 232, 259, 445, 195, 261, 482, 264, 487, 194, 486, 263, 254, 192, 157, 92, 87, 498, 163, 199, 268, 89, 200, 230, 358, 125, 29, 86, 474, 272, 21, 65, 429, 218, 94, 72, 452, 290, 406, 201, 451, 174, 27, 244, 373, 271, 26, 361, 9, 347, 173, 276, 284, 189, 425, 253, 269, 360, 76, 191, 256, 46, 241, 74, 16, 458, 37, 221, 310, 411, 359, 477, 198, 278, 391, 144, 143, 412, 109, 340, 410, 481, 390, 480, 36, 134, 319, 77, 124, 132, 13, 289, 416, 473, 148, 180, 59, 234, 428, 162, 22, 131, 242, 225, 334, 251, 126, 260, 246, 317, 166, 396, 181, 214, 309, 247, 321, 138, 475, 115, 227, 137, 130, 300, 314, 202, 478, 161, 90, 97, 139, 55, 220, 469, 400, 296, 490, 409, 346, 238, 315, 245, 362, 275, 403, 123, 71, 382, 374, 470, 389, 466, 107, 224, 108, 141, 243, 372, 252, 129, 287, 430, 488, 217, 182, 316, 375, 333, 288, 270, 120, 250, 154, 356, 190, 164, 7, 101, 369, 448, 38, 368, 312, 112, 248, 219, 492, 434, 298, 332, 306, 257, 365, 25, 446, 240, 295, 419, 422, 299, 184, 40, 384, 169, 78, 177, 168, 345, 249, 371, 297, 35, 98, 456, 236, 193, 113, 67, 335, 421, 79, 337, 376, 176, 70, 417, 151, 73, 397, 121, 150, 155, 343, 344, 100, 80, 424, 447, 277, 53, 285, 491, 102, 313, 433, 135, 338, 136, 147, 122, 331, 318, 370, 237, 68, 395, 489, 47]\n"
     ]
    }
   ],
   "source": [
    "# test the results dictionary by printing the first 5 items\n",
    "for key, value in results.items():\n",
    "    print(key, value)\n",
    "    if int(key) > 3:\n",
    "        break\n"
   ]
  },
  {
   "cell_type": "code",
   "execution_count": 17,
   "metadata": {},
   "outputs": [],
   "source": [
    "# First construct a reverse mapping of movie titles and DataFrame indices\n",
    "# Construct a reverse map of indices and movie titles\n",
    "indices = pd.Series(df.index, index=df['description']).drop_duplicates()"
   ]
  },
  {
   "cell_type": "code",
   "execution_count": 18,
   "metadata": {},
   "outputs": [
    {
     "data": {
      "text/plain": [
       "description\n",
       "Active classic boxers - There's a reason why our boxers are a cult favorite - they keep their cool, especially in sticky situations. The quick-drying, lightweight underwear takes up minimal space in a travel pack. An exposed, brushed waistband offers next-to-skin softness, five-panel construction with a traditional boxer back for a classic fit, and a functional fly. Made of 3.7-oz 100% recycled polyester with moisture-wicking performance. Inseam (size M) is 4 1/2\". Recyclable through the Common Threads Recycling Program.<br><br><b>Details:</b><ul> <li>\"Silky Capilene 1 fabric is ultralight, breathable and quick-to-dry\"</li> <li>\"Exposed, brushed elastic waistband for comfort\"</li> <li>5-panel construction with traditional boxer back</li> <li>\"Inseam (size M) is 4 1/2\"\"\"</li></ul><br><br><b>Fabric: </b>3.7-oz 100% all-recycled polyester with Gladiodor natural odor control for the garment. Recyclable through the Common Threads Recycling Program<br><br><b>Weight: </b>99 g (3.5 oz)<br><br>Made in Mexico.                                                                                                                                                                                                                                                                                                                                                                                                                                                                                                                                                                                                                                                                                                                                                                                                                                                                                                                           0\n",
       "Active sport boxer briefs - Skinning up Glory requires enough movement without your boxers deciding to poach their own route. The form-fitting Active Sport Boxer Briefs are made from breathable 93% polyester (71% recycled) fabric that's fast-wicking, dries quickly and has 7% spandex for stretch; the seamless waistband and soft leg edges won't roll or bind. The gusseted, flat-sewn 6\" inseam (size M) is offset to prevent inner-thigh chafe. Fly-free with a smooth front panel. Recyclable through the Common Threads Recycling Program.<br><br><b>Details:</b><ul> <li>\"Stretch mesh provides support, open-weave mesh for airflow, wicks efficiently, dries fast\"</li> <li>Seamless construction</li> <li>\"Flat-sewn, gusseted inseam is set forward to prevent inner-thigh chafe\"</li> <li>Fly-free support</li> <li>\"Inseam (size M) is 6\"\"\"</li></ul><br><br><b>Fabric: </b>\"4.6-oz 93% polyester (71% recycled)/7% spandex, with moisture-wicking performance. Recyclable through the Common Threads Recycling Program\"<br><br><b>Weight: </b>(60 g 2.1 oz)<br><br>Made in Israel.                                                                                                                                                                                                                                                                                                                                                                                                                                                                                                                                                                                                                                                                                                                                                                                                                                                                            1\n",
       "Active sport briefs - These superbreathable no-fly briefs are the minimalist's choice for high-octane endeavors. Made from a blend of fast-wicking, quick-drying 93% polyester (71% recycled) and 7% spandex that has both stretch-mesh (for support) and open mesh (for cooling airflow). Soft edging at the leg openings and a seamless waist won't roll or create friction against layers. With a smooth front panel for opacity. Recyclable through the Common Threads Recycling Program.<br><br><b>Details:</b><ul> <li>\"Stretch mesh provides support, open-weave mesh for airflow, wicks efficiently and dries fast\"</li> <li>Seamless construction</li> <li>Leg openings have half-inch self-binding for comfort</li> <li>Fly-free support</li></ul><br><br><b>Fabric: </b>\"4.6-oz 93% polyester (71% recycled)/7% spandex, with moisture-wicking performance. Recyclable through the Common Threads Recycling Program\"<br><br><b>Weight: </b>(49 g 1.7 oz)<br><br>Made in Israel.                                                                                                                                                                                                                                                                                                                                                                                                                                                                                                                                                                                                                                                                                                                                                                                                                                                                                                                                                                                        2\n",
       "Alpine guide pants - Skin in, climb ice, switch to rock, traverse a knife-edge ridge and boogie back down - these durable, weather-resistant and breathable soft-shell pants keep stride on every mountain endeavor. The midweight stretch-woven polyester won't restrict your moves, and the brushed interior maintains next-to-skin comfort. A 2-way zippered fly keeps things easy with a harness on, and the gusseted, zippered cuffs have 2-position snaps and tie-down loops. With water-resistant zippered pockets: two front, two thigh, one back hip. Recyclable through the Common Threads Recycling Program.<br><br><b>Details:</b><ul> <li>Durable stretch-woven polyester (47% recycled) with DWR (durable water repellent) finish is water- and wind-resistant and highly breathable</li> <li>Brushed interior for next-to-skin comfort</li> <li>Waistband has belt loops and elastic on back</li> <li>2-way zippered fly</li> <li>\"External pockets: two front slash, two glued-on thigh, one back hip - all with highly water-resistant, DWR-finished zippers\"</li> <li>\"Gusseted, zippered cuff with 2-position adjustable settings and tie-down loops\"</li></ul><br><br><b>Fabric: </b>\"7.6-oz 90-denier 92% polyester (47% recycled)/8% spandex, with Deluge DWR finish. Recyclable through the Common Threads Recycling Program\"<br><br><b>Weight: </b>(597 g 20.7 oz)<br><br>Made in Vietnam.                                                                                                                                                                                                                                                                                                                                                                                                                                                                                                                                                                3\n",
       "Alpine wind jkt - On high ridges, steep ice and anything alpine, this jacket serves as a true \"best of all worlds\" staple. It excels as a stand-alone shell for blustery rock climbs, cool-weather trail runs and high-output ski tours. And then, when conditions have you ice and alpine climbing, it functions as a lightly insulated windshirt on the approach, as well as a frictionless midlayer when it's time to bundle up and tie-in. The polyester ripstop shell with a Deluge DWR (durable water repellent) treatment sheds snow and blocks wind, while the smooth, lightly brushed hanging mesh liner wicks moisture, dries fast, and doesn't bind to your baselayers. Superlight stretch-woven underarm panels enhance breathability and allow for unimpaired arm motion, and the two hand pockets close with zippers. A drawcord hem, elastic cuffs, a heat-transfer reflective logo and a regular-coil, center-front zipper with DWR finish round out the features. Updated this season for an improved fit. Recyclable through the Common Threads Recycling Program.<br><br><b>Details:</b><ul> <li>\"Lightweight, breathable polyester ripstop fabric with Deluge DWR (durable water repellent) finish; Slightly brushed polyester-mesh liner wicks moisture and dries fast\"</li> <li>\"Stretch-woven underarm panels provide breathability, stretch for unimpeded range of motion\"</li> <li>DWR finish on center-front zipper</li> <li>Elastic cuffs</li> <li>\"Pockets: exterior chest, zippered handwarmers\"</li> <li>Drawcord hem</li> <li>Reflective heat-transfer logo</li></ul><br><br><b>Fabric: </b>Shell: 1.3-oz 20-denier 100% polyester ripstop. Panels: 4.6-oz 75-denier 90% all-recycled polyester/10% spandex. Shell and panels have Deluge DWR (durable water repellent) finish. Lining: 100% polyester brushed tricot mesh. Recyclable through the Common Threads Recycling Program<br><br><b>Weight: </b>(331 g 11.5 oz)<br><br>Made in China.    4\n",
       "Ascensionist jkt - Our most technical soft shell for full-on mountain pursuits strikes the alpinist's balance between protection and minimalism. The dense 2-way-stretch polyester double weave, with stitchless seams, has exceptional water- and wind-resistance, a rapid dry time and superb breathability. Pared-down detailing provides everything you need and nothing more: a 3-way-adjustable, helmet-compatible hood; a reverse-coil center-front zipper with a DWR (durable water repellent) finish; large external handwarmer pockets (with zipper garages) that are placed above the harness-line; an internal security pocket; articulated arms; self-fabic cuff tabs; a drawcord hem. Recyclable through the Common Threads Recycling Program.<br><br><b>Details:</b><ul> <li>\"Dense stretchy polyester double-weave fabric is exceptionally water- and wind-resistant and is spandex-free for fast dry times; Stitch-free, lap-glued seams speed dry time, improve water resistance and decrease bulk\"</li> <li>\"Helmet-compatible, 3-way-adjustable hood;  brushed chamois patches for chin and neck comfort\"</li> <li>DWR-(durable water repellent) finished center-front zipper; external pockets: two handwarmers fit skins and have zipper garages and DWR finish on zippers</li> <li>Internal security pocket</li> <li>Articulated arms</li> <li>\"Low-profile, laminated, self-fabric cuff tabs\"</li> <li>Drawcord hem</li></ul><br><br><b>Fabric: </b>5.3-oz 100% polyester (45% recycled) double weave with 2-way-stretch and Deluge DWR finish. Recyclable through the Common Threads Recycling Program<br><br><b>Weight: </b>(553 g 19.2 oz)<br><br>Made in China.                                                                                                                                                                                                                                                                                       5\n",
       "Atom - A multitasker's cloud nine, the Atom plays the part of courier bag, daypack and carry-on. Its teardrop shape provides the support of a daypack by positioning the load behind your shoulder, and the single-strap design makes getting to the goods simple - just spin it around front. The large zippered main pocket has internal zippered mesh and stretch-woven pockets. A convenient zippered pocket on the shoulder strap is lined to protect valuables. Breathable, moisture-moving 3-D spacer mesh pads the shoulder strap and back panel. Made from 150-denier double-weave all-recycled polyester with a polyurethane coating and DWR (durable water repellent) finish.<br><br><b>Details:</b><ul> <li>Atom spins around from back to chest for easy access</li> <li>Main zippered pocket has internal zippered mesh and stretch-woven organizer pockets</li> <li>Small zippered pocket for essentials</li> <li>\"Zippered pocket on shoulder strap is lined to protect cell phone, sunglasses, etc\"</li> <li>\"Teardrop shape positions weight behind the shoulder, easing stress on neck and back\"</li> <li>\"3-D spacer-mesh on the shoulder strap and back panel wicks moisture, dries quickly and allows air circulation\"</li> <li>Waistbelt secures pack to torso</li></ul><br><br><b>Fabric: </b>7.4-oz 150-denier 100% all-recycled polyester double weave. Lining: 3.3-oz 200-denier 100% polyester. Both with polyurethane coating and a DWR (durable water repellent) finish. Shoulder strap: 100% polyester 3-D spacer mesh<br><br><b>Weight: </b>(311 g 10.8 oz)<br><br>Made in Vietnam.                                                                                                                                                                                                                                                                                                                                                               6\n",
       "Print banded betina btm - Our fullest coverage bottoms, the Betina fits highest across the hips with a slightly scooped, lined front. Made from a blend of 82% nylon/18% spandex.<br><br><b>Details:</b><ul> <li>Fullest coverage bottom</li> <li>\"Fits highest across hips, full front and back coverage\"</li> <li>Regular rise</li> <li>Improved fabric</li></ul><br><br><b>Fabric: </b>5.6-oz 82% nylon/18% spandex<br><br><b>Weight: </b>(49 g 1.7 oz)<br><br>Made in USA.                                                                                                                                                                                                                                                                                                                                                                                                                                                                                                                                                                                                                                                                                                                                                                                                                                                                                                                                                                                                                                                                                                                                                                                                                                                                                                                                                                                                                                                                                                    7\n",
       "Baby micro d-luxe cardigan - Micro D-Luxe is a heavenly soft fabric with down-to-earth applications. This cardigan is made from a quick-drying, durable 4.6-oz 100% polyester (87% recycled) microdenier fleece that is lightweight and breathable so it can work as a top or midlayer. A wind flap backs the zip front, while the hood has covered-elastic side trim to bundle babies in deep warmth. With slash-style patch pockets, color-coordinating elbow patches and soft self-fabric cuffs. Recyclable through the Common Threads Recycling Program.<br><br><b>Details:</b><ul> <li>\"Soft, microdenier fleece made from 87% recycled polyester is durable and quick-to-dry\"</li> <li>Hood stays secure with covered side elastic</li> <li>Inside neck tape for a clean finish</li> <li>Handwarmer patch pockets</li> <li>\"Full front zip backed by a wind flap; soft, self-fabric cuffs\"</li></ul><br><br><b>Fabric: </b>4.6-oz 100% microdenier polyester (87% recycled) fleece. Recyclable through the Common Threads Recycling Program<br><br><b>Weight: </b>(121 g 4.2 oz)<br><br>Made in Costa Rica.                                                                                                                                                                                                                                                                                                                                                                                                                                                                                                                                                                                                                                                                                                                                                                                                                                                                 8\n",
       "Baby sun bucket hat - This hat goes on when the sun rises above the horizon, and stays on when raindrops start falling. Its made from an ultra-durable 4-ply, 4.2-oz Supplex nylon fabric with a DWR (durable water repellent) finish, and reverses to either a contrasting solid color or print. A soft tuck-away chin strap with a hook-and-loop fastener holds securely without chafing young jawlines. Packs small; easy care.<br><br><b>Details:</b><ul> <li>\"Lightweight Supplex nylon is soft, dries fast and packs small; easy care\"</li> <li>Brim shields head and neck</li> <li>Chin strap with hook-and-loop fastener can be tucked away when not in use</li> <li>Reversible style with fun print/solid combinations</li> <li>One colorway has print on both sides</li></ul><br><br><b>Fabric: </b>\"4-ply, 4.2-oz Supplex nylon with a DWR (durable water repellent) finish\"<br><br><b>Weight: </b>(49 g 1.7 oz)<br><br>Made in China.                                                                                                                                                                                                                                                                                                                                                                                                                                                                                                                                                                                                                                                                                                                                                                                                                                                                                                                                                                                                                                 9\n",
       "dtype: int64"
      ]
     },
     "execution_count": 18,
     "metadata": {},
     "output_type": "execute_result"
    }
   ],
   "source": [
    "indices[:10]"
   ]
  },
  {
   "cell_type": "markdown",
   "metadata": {},
   "source": [
    "* create function `recommender` that will recommend similar products. function must have two input params: \n",
    "    - **item_id** - we can obtain this from the description, but we'll require it to specify what you want similarities to\n",
    "    - **count** of similar products \n",
    "\n",
    "sort all items using their similarity score in the cosine_sim matrix. This will return a list of indices of the items in descending order of similarity score. This is done by using the enumerate function to keep track of the indices of the items"
   ]
  },
  {
   "cell_type": "code",
   "execution_count": 28,
   "metadata": {},
   "outputs": [],
   "source": [
    "# Function that takes in movie title as input and outputs most similar movies\n",
    "def recommender(id, count, cosine_sim=cosine_sim):\n",
    "    # Get the pairwsie similarity scores of all items with the item id you gave\n",
    "    sim_scores = list(enumerate(cosine_sim[id]))\n",
    "\n",
    "    # Sort the items based on the similarity scores\n",
    "    sim_scores = sorted(sim_scores, key=lambda x: x[1], reverse=True)\n",
    "\n",
    "    # Get the descriptions of the number of smilarities the user asked for\n",
    "    sim_scores = sim_scores[:count]\n",
    "\n",
    "    # Get the item indices\n",
    "    item_indices = [i[0] for i in sim_scores]\n",
    "\n",
    "    # Return the top 10 most similar movies\n",
    "    return df['description'].iloc[item_indices]"
   ]
  },
  {
   "cell_type": "code",
   "execution_count": 30,
   "metadata": {
    "ExecuteTime": {
     "end_time": "2020-04-30T11:36:31.626923Z",
     "start_time": "2020-04-30T11:36:31.620020Z"
    }
   },
   "outputs": [
    {
     "data": {
      "text/plain": [
       "10     Baby sunshade top - Soft, stretchy polyester f...\n",
       "418    Sunshade hoody - Put an end to the sunscreen s...\n",
       "464    Baby baggies apron dress - This lively dress k...\n",
       "411    Sunshade shirt - This ultralight, moisture wic...\n",
       "403    Hooded monk sweatshirt - The sacred garment of...\n",
       "Name: description, dtype: object"
      ]
     },
     "execution_count": 30,
     "metadata": {},
     "output_type": "execute_result"
    }
   ],
   "source": [
    "# test out\n",
    "recommender(10, 5)"
   ]
  },
  {
   "cell_type": "markdown",
   "metadata": {},
   "source": [
    "* show top 5 the most similar items for item with item_id = 11"
   ]
  },
  {
   "cell_type": "code",
   "execution_count": 31,
   "metadata": {},
   "outputs": [
    {
     "data": {
      "text/plain": [
       "11     Baggies shorts - Even Baggies, our most popula...\n",
       "401    River shorts - River life is mighty fine, but ...\n",
       "407    Baggies shorts - Summertime unwinds in a boist...\n",
       "427    Girl's baggies shorts - An everyday staple for...\n",
       "311    Baggies shorts - A loyal partner in grime, Bag...\n",
       "Name: description, dtype: object"
      ]
     },
     "execution_count": 31,
     "metadata": {},
     "output_type": "execute_result"
    }
   ],
   "source": [
    "recommender(11, 5) # must be shorts"
   ]
  },
  {
   "cell_type": "code",
   "execution_count": 33,
   "metadata": {
    "ExecuteTime": {
     "end_time": "2020-04-30T11:36:55.945848Z",
     "start_time": "2020-04-30T11:36:55.933039Z"
    }
   },
   "outputs": [
    {
     "data": {
      "text/plain": [
       "'Baggies shorts - Even Baggies, our most popular shorts for anything, or nothing, occasionally need an update. This season we\\'ve increased the inseam length. Their casual fit, quick-drying water-repellent nylon and elasticized waistband with an internal drawstring remain the same as ever. Other features include a polyester mesh lining, a rear snap pocket and front pockets (with self-draining mesh corners) positioned to reduce drag in the water. Inseam (size M) is 7\". Recyclable through the Common Threads Recycling Program.<br><br><b>Details:</b><ul> <li>Quick-drying nylon with a DWR (durable water repellent) finish</li> <li>Elasticized waistband with internal drawstring; black mesh liner</li> <li>Vertical on-seam side pockets for reduced drag in the water; pocket bags have quick-drain-and-dry mesh corners; snap-closed back pocket</li> <li>\"Inseam is 7\"\"\"</li></ul><br><br><b>Fabric: </b>4.2-oz 100% nylon with a DWR finish. Lining: 5.2-oz 100% polyester mesh. Recyclable through the Common Threads Recycling Program<br><br><b>Weight: </b>(233 g 8.1 oz)<br><br>Made in Nicaragua.'"
      ]
     },
     "execution_count": 33,
     "metadata": {},
     "output_type": "execute_result"
    }
   ],
   "source": [
    "df['description'].iloc[11]"
   ]
  }
 ],
 "metadata": {
  "kernelspec": {
   "display_name": "Python 3",
   "language": "python",
   "name": "python3"
  },
  "language_info": {
   "codemirror_mode": {
    "name": "ipython",
    "version": 3
   },
   "file_extension": ".py",
   "mimetype": "text/x-python",
   "name": "python",
   "nbconvert_exporter": "python",
   "pygments_lexer": "ipython3",
   "version": "3.12.2"
  },
  "toc": {
   "base_numbering": 1,
   "nav_menu": {},
   "number_sections": true,
   "sideBar": true,
   "skip_h1_title": false,
   "title_cell": "Table of Contents",
   "title_sidebar": "Contents",
   "toc_cell": false,
   "toc_position": {},
   "toc_section_display": true,
   "toc_window_display": false
  },
  "varInspector": {
   "cols": {
    "lenName": 16,
    "lenType": 16,
    "lenVar": 40
   },
   "kernels_config": {
    "python": {
     "delete_cmd_postfix": "",
     "delete_cmd_prefix": "del ",
     "library": "var_list.py",
     "varRefreshCmd": "print(var_dic_list())"
    },
    "r": {
     "delete_cmd_postfix": ") ",
     "delete_cmd_prefix": "rm(",
     "library": "var_list.r",
     "varRefreshCmd": "cat(var_dic_list()) "
    }
   },
   "types_to_exclude": [
    "module",
    "function",
    "builtin_function_or_method",
    "instance",
    "_Feature"
   ],
   "window_display": false
  }
 },
 "nbformat": 4,
 "nbformat_minor": 4
}
